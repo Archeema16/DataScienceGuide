{
 "cells": [
  {
   "cell_type": "code",
   "execution_count": null,
   "id": "c0bf3e38",
   "metadata": {},
   "outputs": [],
   "source": []
  },
  {
   "cell_type": "code",
   "execution_count": 2,
   "id": "041ef19a",
   "metadata": {},
   "outputs": [],
   "source": [
    "import pandas as pd\n",
    "import numpy as np"
   ]
  },
  {
   "cell_type": "code",
   "execution_count": null,
   "id": "001180cb",
   "metadata": {},
   "outputs": [],
   "source": [
    "def printFunction(element : object,printString=\"\"):\n",
    "    print(printString,\"\\n\",element,\"\\n\")"
   ]
  },
  {
   "cell_type": "markdown",
   "id": "aa837dc1",
   "metadata": {},
   "source": [
    "### Series"
   ]
  },
  {
   "cell_type": "markdown",
   "id": "26b37922",
   "metadata": {},
   "source": [
    "In the context of the pandas library in Python, a Series refers to a one-dimensional labeled array."
   ]
  },
  {
   "cell_type": "code",
   "execution_count": null,
   "id": "752345ad",
   "metadata": {},
   "outputs": [],
   "source": [
    "labels = ['a','b','c']\n",
    "my_data = [10,20,30]\n",
    "np_arr = np.array(my_data)\n",
    "myDict = {0:my_data,1:labels}\n",
    "\n",
    "printFunction(pd.Series(data=my_data,index=labels),\"We define a Series and gives index, This can't be done in Numpy \")\n",
    "printFunction(pd.Series(data=np_arr,index=labels),\"We define a Series through Numpy array, and gives Indexes\")\n",
    "printFunction(pd.Series(myDict),\"We define a Series through Dictionary, keys become indexes automatically\")\n",
    "pd1 = pd.Series(myDict)\n",
    "printFunction(pd1[0],\" Access the element of Series by naming index\")\n",
    "printFunction(pd1[[0,1]],\" Access Multiple element of Series by giving list of indexes\")"
   ]
  },
  {
   "cell_type": "markdown",
   "id": "1359fb0b",
   "metadata": {},
   "source": [
    "### DataFrames"
   ]
  },
  {
   "cell_type": "markdown",
   "id": "a65190b9",
   "metadata": {},
   "source": [
    "In the context of the pandas library in Python, DataFrame is a two-dimensional, tabular data structure. It is one of the most widely used data structures for data analysis and manipulation. The DataFrame is similar to a spreadsheet or a SQL table"
   ]
  },
  {
   "cell_type": "code",
   "execution_count": null,
   "id": "408a36d5",
   "metadata": {},
   "outputs": [],
   "source": [
    "indexes = ['a','b','c']\n",
    "cols = ['x','y','z']\n",
    "my_data = [[10,20,30],[40,50,60],[70,80,90]]\n",
    "\n",
    "df = pd.DataFrame(data=my_data,index=indexes,columns=cols)\n",
    "printFunction(df,\"Now as dataframe is multidimesnional, it is collection of series along with column names\")\n",
    "printFunction(df['x'],\"You can access whole column by subscript method, but can't access row by subscript method\")\n",
    "printFunction(df.loc['a'],\"You can access whole row by subscript method using loc and index name\")\n",
    "printFunction(df.loc[['a','b']],\"You can access multiple whole rows by subscript method using loc and index names\")\n",
    "printFunction(df.iloc[0],\"You can access whole row by subscript method using iloc and index number\")\n",
    "printFunction(df.iloc[[0,1]],\"You can access multiple whole rows by subscript method using iloc and index numbers\")\n",
    "#The difference between loc and iloc is, loc require you to write names of index and column, iloc requires numbers\n",
    "printFunction(df.loc['a','x'],\"You can access a particular value of 2-d array using loc\")\n",
    "printFunction(df.loc[['a','b'],['x','y']],\"You can access a subset of 2-d array using loc\")\n",
    "printFunction(df.iloc[0,0],\"You can access a particular value of 2-d array using iloc\")\n",
    "printFunction(df.iloc[[0,1],[0,1]],\"You can access a subset of 2-d array using iloc\")"
   ]
  },
  {
   "cell_type": "code",
   "execution_count": null,
   "id": "6c24a5c0",
   "metadata": {},
   "outputs": [],
   "source": [
    "df['newColumn']=df['x'] + df['y'] \n",
    "printFunction(df,\"You can access a subset of 2-d array using iloc\")\n",
    "df.drop(labels=['newColumn'],axis=1)\n",
    "df.drop(labels=['a'],axis=0)"
   ]
  },
  {
   "cell_type": "code",
   "execution_count": null,
   "id": "4fe86fce",
   "metadata": {},
   "outputs": [],
   "source": [
    "df.shape"
   ]
  },
  {
   "cell_type": "code",
   "execution_count": null,
   "id": "a5bf5c60",
   "metadata": {},
   "outputs": [],
   "source": [
    "printFunction(df[df>20],\"This will return a complete True/False 2d arr, and where it is False will become Nan\")\n",
    "#But we dont want Nan we want to get only those values which pass the test of a particular Column/Row\n",
    "printFunction(df[df['y']>20],\"This will return whole subset of 2d arr, which satisfy your column condition\")\n",
    "printFunction(df[(df['y']>20) & (df['z']>60)],\"This will return whole subset of 2d arr, which satisfy your columns multiple condition\")\n",
    "printFunction(df[(df['y']>20) | (df['z']>60)],\"This will return whole subset of 2d arr, which satisfy your columns multiple condition\")\n",
    "printFunction(df[(df['y']>20) & (df['z']>60)][['x','y']],\"This will return whole subset of 2d arr, which satisfy your columns multiple condition, and we are subscripting it again to get particular columns\")"
   ]
  },
  {
   "cell_type": "code",
   "execution_count": null,
   "id": "18eb0feb",
   "metadata": {},
   "outputs": [],
   "source": [
    "printFunction(df.reset_index(),\"Reset your Indexes to integers, and make a column of old indexes\")\n",
    "printFunction(df.set_index('newColumn'),\"Set your Indexes to specified column, but will not make a new column of old indexes\")\n",
    "  "
   ]
  },
  {
   "cell_type": "code",
   "execution_count": 18,
   "id": "a6427b58",
   "metadata": {},
   "outputs": [
    {
     "data": {
      "text/html": [
       "<div>\n",
       "<style scoped>\n",
       "    .dataframe tbody tr th:only-of-type {\n",
       "        vertical-align: middle;\n",
       "    }\n",
       "\n",
       "    .dataframe tbody tr th {\n",
       "        vertical-align: top;\n",
       "    }\n",
       "\n",
       "    .dataframe thead th {\n",
       "        text-align: right;\n",
       "    }\n",
       "</style>\n",
       "<table border=\"1\" class=\"dataframe\">\n",
       "  <thead>\n",
       "    <tr style=\"text-align: right;\">\n",
       "      <th></th>\n",
       "      <th>A</th>\n",
       "      <th>B</th>\n",
       "      <th>C</th>\n",
       "    </tr>\n",
       "  </thead>\n",
       "  <tbody>\n",
       "    <tr>\n",
       "      <th>0</th>\n",
       "      <td>1.0</td>\n",
       "      <td>3.0</td>\n",
       "      <td>6</td>\n",
       "    </tr>\n",
       "    <tr>\n",
       "      <th>1</th>\n",
       "      <td>2.0</td>\n",
       "      <td>NaN</td>\n",
       "      <td>7</td>\n",
       "    </tr>\n",
       "    <tr>\n",
       "      <th>2</th>\n",
       "      <td>NaN</td>\n",
       "      <td>NaN</td>\n",
       "      <td>8</td>\n",
       "    </tr>\n",
       "  </tbody>\n",
       "</table>\n",
       "</div>"
      ],
      "text/plain": [
       "     A    B  C\n",
       "0  1.0  3.0  6\n",
       "1  2.0  NaN  7\n",
       "2  NaN  NaN  8"
      ]
     },
     "execution_count": 18,
     "metadata": {},
     "output_type": "execute_result"
    }
   ],
   "source": [
    "myDict = {\"A\":[1,2,np.nan],'B':[3,np.nan,np.nan],\"C\":[6,7,8]}\n",
    "\n",
    "df = pd.DataFrame(data=myDict)\n",
    "df"
   ]
  },
  {
   "cell_type": "markdown",
   "id": "05c2232b",
   "metadata": {},
   "source": [
    "### Drop and Fill NA Values"
   ]
  },
  {
   "cell_type": "code",
   "execution_count": 22,
   "id": "55de5585",
   "metadata": {},
   "outputs": [
    {
     "data": {
      "text/html": [
       "<div>\n",
       "<style scoped>\n",
       "    .dataframe tbody tr th:only-of-type {\n",
       "        vertical-align: middle;\n",
       "    }\n",
       "\n",
       "    .dataframe tbody tr th {\n",
       "        vertical-align: top;\n",
       "    }\n",
       "\n",
       "    .dataframe thead th {\n",
       "        text-align: right;\n",
       "    }\n",
       "</style>\n",
       "<table border=\"1\" class=\"dataframe\">\n",
       "  <thead>\n",
       "    <tr style=\"text-align: right;\">\n",
       "      <th></th>\n",
       "      <th>A</th>\n",
       "      <th>B</th>\n",
       "      <th>C</th>\n",
       "    </tr>\n",
       "  </thead>\n",
       "  <tbody>\n",
       "    <tr>\n",
       "      <th>0</th>\n",
       "      <td>1.0</td>\n",
       "      <td>3.0</td>\n",
       "      <td>6</td>\n",
       "    </tr>\n",
       "    <tr>\n",
       "      <th>1</th>\n",
       "      <td>2.0</td>\n",
       "      <td>Filler</td>\n",
       "      <td>7</td>\n",
       "    </tr>\n",
       "    <tr>\n",
       "      <th>2</th>\n",
       "      <td>Filler</td>\n",
       "      <td>Filler</td>\n",
       "      <td>8</td>\n",
       "    </tr>\n",
       "  </tbody>\n",
       "</table>\n",
       "</div>"
      ],
      "text/plain": [
       "        A       B  C\n",
       "0     1.0     3.0  6\n",
       "1     2.0  Filler  7\n",
       "2  Filler  Filler  8"
      ]
     },
     "execution_count": 22,
     "metadata": {},
     "output_type": "execute_result"
    }
   ],
   "source": [
    "df.dropna() #Drop any row which has 1 or more nan value\n",
    "df.dropna(axis=1) #Drop any column which has 1 or more nan value\n",
    "df.dropna(axis=1,thresh=2) #Drop when total value is equal or more to threshold value\n",
    "\n",
    "df.fillna(value=\"Filler\")\n",
    "df['A'].fillna(value=df['A'].median())"
   ]
  },
  {
   "cell_type": "markdown",
   "id": "50ba9755",
   "metadata": {},
   "source": [
    "### GroupBy in Pandas"
   ]
  },
  {
   "cell_type": "code",
   "execution_count": 35,
   "id": "f932cee6",
   "metadata": {},
   "outputs": [],
   "source": [
    "myDict = {\"Company\":[\"Google\",\"Google\",\"Microsoft\",\"Microsoft\",\"Facebook\",\"Facebook\",\"Google\"],\n",
    "          'Employee':[\"Farhan\",\"Samar\",\"Ashwin\",\"Peter\",\"Aasim\",\"Derrick\",\"Omer\"],\n",
    "          \"Salary\":[200,300,200,350,120,134,232],\n",
    "         \"Age\":[24,38,31,28,31,33,40]}\n",
    "\n",
    "employeeDf = pd.DataFrame(data=myDict)"
   ]
  },
  {
   "cell_type": "code",
   "execution_count": 36,
   "id": "75db5074",
   "metadata": {},
   "outputs": [
    {
     "data": {
      "text/html": [
       "<div>\n",
       "<style scoped>\n",
       "    .dataframe tbody tr th:only-of-type {\n",
       "        vertical-align: middle;\n",
       "    }\n",
       "\n",
       "    .dataframe tbody tr th {\n",
       "        vertical-align: top;\n",
       "    }\n",
       "\n",
       "    .dataframe thead th {\n",
       "        text-align: right;\n",
       "    }\n",
       "</style>\n",
       "<table border=\"1\" class=\"dataframe\">\n",
       "  <thead>\n",
       "    <tr style=\"text-align: right;\">\n",
       "      <th></th>\n",
       "      <th>Salary</th>\n",
       "      <th>Age</th>\n",
       "    </tr>\n",
       "    <tr>\n",
       "      <th>Company</th>\n",
       "      <th></th>\n",
       "      <th></th>\n",
       "    </tr>\n",
       "  </thead>\n",
       "  <tbody>\n",
       "    <tr>\n",
       "      <th>Facebook</th>\n",
       "      <td>254</td>\n",
       "      <td>64</td>\n",
       "    </tr>\n",
       "    <tr>\n",
       "      <th>Google</th>\n",
       "      <td>732</td>\n",
       "      <td>102</td>\n",
       "    </tr>\n",
       "    <tr>\n",
       "      <th>Microsoft</th>\n",
       "      <td>550</td>\n",
       "      <td>59</td>\n",
       "    </tr>\n",
       "  </tbody>\n",
       "</table>\n",
       "</div>"
      ],
      "text/plain": [
       "           Salary  Age\n",
       "Company               \n",
       "Facebook      254   64\n",
       "Google        732  102\n",
       "Microsoft     550   59"
      ]
     },
     "execution_count": 36,
     "metadata": {},
     "output_type": "execute_result"
    }
   ],
   "source": [
    "employeeDf.groupby(\"Company\").sum()"
   ]
  },
  {
   "cell_type": "code",
   "execution_count": 43,
   "id": "3cd84cae",
   "metadata": {},
   "outputs": [
    {
     "data": {
      "text/html": [
       "<div>\n",
       "<style scoped>\n",
       "    .dataframe tbody tr th:only-of-type {\n",
       "        vertical-align: middle;\n",
       "    }\n",
       "\n",
       "    .dataframe tbody tr th {\n",
       "        vertical-align: top;\n",
       "    }\n",
       "\n",
       "    .dataframe thead th {\n",
       "        text-align: right;\n",
       "    }\n",
       "</style>\n",
       "<table border=\"1\" class=\"dataframe\">\n",
       "  <thead>\n",
       "    <tr style=\"text-align: right;\">\n",
       "      <th></th>\n",
       "      <th>Salary</th>\n",
       "      <th>Age</th>\n",
       "    </tr>\n",
       "    <tr>\n",
       "      <th>Company</th>\n",
       "      <th></th>\n",
       "      <th></th>\n",
       "    </tr>\n",
       "  </thead>\n",
       "  <tbody>\n",
       "    <tr>\n",
       "      <th>Facebook</th>\n",
       "      <td>120</td>\n",
       "      <td>31</td>\n",
       "    </tr>\n",
       "    <tr>\n",
       "      <th>Google</th>\n",
       "      <td>200</td>\n",
       "      <td>24</td>\n",
       "    </tr>\n",
       "    <tr>\n",
       "      <th>Microsoft</th>\n",
       "      <td>200</td>\n",
       "      <td>28</td>\n",
       "    </tr>\n",
       "  </tbody>\n",
       "</table>\n",
       "</div>"
      ],
      "text/plain": [
       "           Salary  Age\n",
       "Company               \n",
       "Facebook      120   31\n",
       "Google        200   24\n",
       "Microsoft     200   28"
      ]
     },
     "execution_count": 43,
     "metadata": {},
     "output_type": "execute_result"
    }
   ],
   "source": [
    "employeeDf.groupby(\"Company\")[[\"Salary\",\"Age\"]].min() #Get only Salary and Age, if you dont min can operate and return on employee column as well\n",
    "employeeDf.groupby(\"Company\").sum().loc['Facebook']  #After summing just show Facebook data \n"
   ]
  },
  {
   "cell_type": "code",
   "execution_count": 49,
   "id": "d669fa68",
   "metadata": {},
   "outputs": [
    {
     "data": {
      "text/plain": [
       "Salary  count      2.000000\n",
       "        mean     127.000000\n",
       "        std        9.899495\n",
       "        min      120.000000\n",
       "        25%      123.500000\n",
       "        50%      127.000000\n",
       "        75%      130.500000\n",
       "        max      134.000000\n",
       "Age     count      2.000000\n",
       "        mean      32.000000\n",
       "        std        1.414214\n",
       "        min       31.000000\n",
       "        25%       31.500000\n",
       "        50%       32.000000\n",
       "        75%       32.500000\n",
       "        max       33.000000\n",
       "Name: Facebook, dtype: float64"
      ]
     },
     "execution_count": 49,
     "metadata": {},
     "output_type": "execute_result"
    }
   ],
   "source": [
    "employeeDf.groupby(\"Company\").describe() #For all Numeric Columns get the data based on group \n",
    "employeeDf.groupby(\"Company\").describe()['Salary'] #To see only salary Columns data based on group\n",
    "employeeDf.groupby(\"Company\").describe().loc['Facebook'] #To see only Facebook Row data based on group"
   ]
  },
  {
   "cell_type": "code",
   "execution_count": null,
   "id": "24f5c302",
   "metadata": {},
   "outputs": [],
   "source": []
  },
  {
   "cell_type": "markdown",
   "id": "8256d98c",
   "metadata": {},
   "source": [
    "### Merging and Concatenating Dataframes"
   ]
  },
  {
   "cell_type": "code",
   "execution_count": 52,
   "id": "9fa31c46",
   "metadata": {},
   "outputs": [],
   "source": [
    "df1= pd.DataFrame(data=[[1,2,3],[4,5,6]],columns=[\"A\",\"B\",\"C\"])\n",
    "df2= pd.DataFrame(data=[[7,8,9],[10,11,12]],columns=[\"A\",\"B\",\"C\"])\n"
   ]
  },
  {
   "cell_type": "code",
   "execution_count": 53,
   "id": "9879c138",
   "metadata": {},
   "outputs": [
    {
     "data": {
      "text/html": [
       "<div>\n",
       "<style scoped>\n",
       "    .dataframe tbody tr th:only-of-type {\n",
       "        vertical-align: middle;\n",
       "    }\n",
       "\n",
       "    .dataframe tbody tr th {\n",
       "        vertical-align: top;\n",
       "    }\n",
       "\n",
       "    .dataframe thead th {\n",
       "        text-align: right;\n",
       "    }\n",
       "</style>\n",
       "<table border=\"1\" class=\"dataframe\">\n",
       "  <thead>\n",
       "    <tr style=\"text-align: right;\">\n",
       "      <th></th>\n",
       "      <th>A</th>\n",
       "      <th>B</th>\n",
       "      <th>C</th>\n",
       "    </tr>\n",
       "  </thead>\n",
       "  <tbody>\n",
       "    <tr>\n",
       "      <th>0</th>\n",
       "      <td>1</td>\n",
       "      <td>2</td>\n",
       "      <td>3</td>\n",
       "    </tr>\n",
       "    <tr>\n",
       "      <th>1</th>\n",
       "      <td>4</td>\n",
       "      <td>5</td>\n",
       "      <td>6</td>\n",
       "    </tr>\n",
       "    <tr>\n",
       "      <th>0</th>\n",
       "      <td>7</td>\n",
       "      <td>8</td>\n",
       "      <td>9</td>\n",
       "    </tr>\n",
       "    <tr>\n",
       "      <th>1</th>\n",
       "      <td>10</td>\n",
       "      <td>11</td>\n",
       "      <td>12</td>\n",
       "    </tr>\n",
       "  </tbody>\n",
       "</table>\n",
       "</div>"
      ],
      "text/plain": [
       "    A   B   C\n",
       "0   1   2   3\n",
       "1   4   5   6\n",
       "0   7   8   9\n",
       "1  10  11  12"
      ]
     },
     "execution_count": 53,
     "metadata": {},
     "output_type": "execute_result"
    }
   ],
   "source": [
    " pd.concat([df1,df2]) #Dimesnions should match along the axix"
   ]
  },
  {
   "cell_type": "code",
   "execution_count": 54,
   "id": "eea4736c",
   "metadata": {},
   "outputs": [
    {
     "data": {
      "text/html": [
       "<div>\n",
       "<style scoped>\n",
       "    .dataframe tbody tr th:only-of-type {\n",
       "        vertical-align: middle;\n",
       "    }\n",
       "\n",
       "    .dataframe tbody tr th {\n",
       "        vertical-align: top;\n",
       "    }\n",
       "\n",
       "    .dataframe thead th {\n",
       "        text-align: right;\n",
       "    }\n",
       "</style>\n",
       "<table border=\"1\" class=\"dataframe\">\n",
       "  <thead>\n",
       "    <tr style=\"text-align: right;\">\n",
       "      <th></th>\n",
       "      <th>A</th>\n",
       "      <th>B</th>\n",
       "      <th>C</th>\n",
       "      <th>A</th>\n",
       "      <th>B</th>\n",
       "      <th>C</th>\n",
       "    </tr>\n",
       "  </thead>\n",
       "  <tbody>\n",
       "    <tr>\n",
       "      <th>0</th>\n",
       "      <td>1</td>\n",
       "      <td>2</td>\n",
       "      <td>3</td>\n",
       "      <td>7</td>\n",
       "      <td>8</td>\n",
       "      <td>9</td>\n",
       "    </tr>\n",
       "    <tr>\n",
       "      <th>1</th>\n",
       "      <td>4</td>\n",
       "      <td>5</td>\n",
       "      <td>6</td>\n",
       "      <td>10</td>\n",
       "      <td>11</td>\n",
       "      <td>12</td>\n",
       "    </tr>\n",
       "  </tbody>\n",
       "</table>\n",
       "</div>"
      ],
      "text/plain": [
       "   A  B  C   A   B   C\n",
       "0  1  2  3   7   8   9\n",
       "1  4  5  6  10  11  12"
      ]
     },
     "execution_count": 54,
     "metadata": {},
     "output_type": "execute_result"
    }
   ],
   "source": [
    "pd.concat([df1,df2],axis=1)"
   ]
  },
  {
   "cell_type": "code",
   "execution_count": null,
   "id": "154689a4",
   "metadata": {},
   "outputs": [],
   "source": []
  },
  {
   "cell_type": "code",
   "execution_count": null,
   "id": "d5f2f430",
   "metadata": {},
   "outputs": [],
   "source": []
  },
  {
   "cell_type": "markdown",
   "id": "6d226873",
   "metadata": {},
   "source": [
    "### Multi-Indexing Heirarchy in Dataframes"
   ]
  },
  {
   "cell_type": "code",
   "execution_count": 3,
   "id": "3820658e",
   "metadata": {},
   "outputs": [],
   "source": [
    "outside = ['G1','G1','G1','G2','G2','G2']\n",
    "inside = [1,2,3,1,2,3]\n",
    "hier_index = list(zip(outside,inside))\n",
    "hier_index = pd.MultiIndex.from_tuples(hier_index) "
   ]
  },
  {
   "cell_type": "code",
   "execution_count": 15,
   "id": "1f68948e",
   "metadata": {},
   "outputs": [],
   "source": [
    "df = pd.DataFrame(data=np.random.randn(6,2), index=hier_index, columns=['A','B'])"
   ]
  },
  {
   "cell_type": "code",
   "execution_count": 16,
   "id": "d72290bc",
   "metadata": {},
   "outputs": [
    {
     "data": {
      "text/html": [
       "<div>\n",
       "<style scoped>\n",
       "    .dataframe tbody tr th:only-of-type {\n",
       "        vertical-align: middle;\n",
       "    }\n",
       "\n",
       "    .dataframe tbody tr th {\n",
       "        vertical-align: top;\n",
       "    }\n",
       "\n",
       "    .dataframe thead th {\n",
       "        text-align: right;\n",
       "    }\n",
       "</style>\n",
       "<table border=\"1\" class=\"dataframe\">\n",
       "  <thead>\n",
       "    <tr style=\"text-align: right;\">\n",
       "      <th></th>\n",
       "      <th></th>\n",
       "      <th>A</th>\n",
       "      <th>B</th>\n",
       "    </tr>\n",
       "  </thead>\n",
       "  <tbody>\n",
       "    <tr>\n",
       "      <th rowspan=\"3\" valign=\"top\">G1</th>\n",
       "      <th>1</th>\n",
       "      <td>0.706672</td>\n",
       "      <td>-0.373391</td>\n",
       "    </tr>\n",
       "    <tr>\n",
       "      <th>2</th>\n",
       "      <td>0.676670</td>\n",
       "      <td>0.662702</td>\n",
       "    </tr>\n",
       "    <tr>\n",
       "      <th>3</th>\n",
       "      <td>0.223108</td>\n",
       "      <td>0.291182</td>\n",
       "    </tr>\n",
       "    <tr>\n",
       "      <th rowspan=\"3\" valign=\"top\">G2</th>\n",
       "      <th>1</th>\n",
       "      <td>-0.238606</td>\n",
       "      <td>1.820864</td>\n",
       "    </tr>\n",
       "    <tr>\n",
       "      <th>2</th>\n",
       "      <td>-0.818415</td>\n",
       "      <td>0.710404</td>\n",
       "    </tr>\n",
       "    <tr>\n",
       "      <th>3</th>\n",
       "      <td>2.595709</td>\n",
       "      <td>-0.277886</td>\n",
       "    </tr>\n",
       "  </tbody>\n",
       "</table>\n",
       "</div>"
      ],
      "text/plain": [
       "             A         B\n",
       "G1 1  0.706672 -0.373391\n",
       "   2  0.676670  0.662702\n",
       "   3  0.223108  0.291182\n",
       "G2 1 -0.238606  1.820864\n",
       "   2 -0.818415  0.710404\n",
       "   3  2.595709 -0.277886"
      ]
     },
     "execution_count": 16,
     "metadata": {},
     "output_type": "execute_result"
    }
   ],
   "source": [
    "df"
   ]
  },
  {
   "cell_type": "code",
   "execution_count": 17,
   "id": "c44d5a31",
   "metadata": {},
   "outputs": [
    {
     "data": {
      "text/plain": [
       "A    0.223108\n",
       "B    0.291182\n",
       "Name: 3, dtype: float64"
      ]
     },
     "execution_count": 17,
     "metadata": {},
     "output_type": "execute_result"
    }
   ],
   "source": [
    "df.loc['G1'].loc[3]"
   ]
  },
  {
   "cell_type": "code",
   "execution_count": null,
   "id": "0442eb60",
   "metadata": {},
   "outputs": [],
   "source": []
  }
 ],
 "metadata": {
  "kernelspec": {
   "display_name": "Python 3 (ipykernel)",
   "language": "python",
   "name": "python3"
  },
  "language_info": {
   "codemirror_mode": {
    "name": "ipython",
    "version": 3
   },
   "file_extension": ".py",
   "mimetype": "text/x-python",
   "name": "python",
   "nbconvert_exporter": "python",
   "pygments_lexer": "ipython3",
   "version": "3.10.12"
  }
 },
 "nbformat": 4,
 "nbformat_minor": 5
}

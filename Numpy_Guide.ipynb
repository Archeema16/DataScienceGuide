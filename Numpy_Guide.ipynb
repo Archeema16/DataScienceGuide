{
 "cells": [
  {
   "cell_type": "markdown",
   "id": "64786972",
   "metadata": {},
   "source": [
    "NumPy is a powerful numerical computing library in Python that provides support for large, multi-dimensional arrays and matrices, along with a collection of mathematical functions to operate on these elements. \n",
    "\n",
    "This guide is created with purpose of<br>\n",
    "1- Beginners get familiar with Numpy functions<br>\n",
    "2- Quick review<br>\n",
    "3- To be used as lookup to find basic and important functions all in one place. <br><br>\n",
    "\n",
    "Let's Get into it :)"
   ]
  },
  {
   "cell_type": "code",
   "execution_count": null,
   "id": "a84e24da",
   "metadata": {},
   "outputs": [],
   "source": [
    "import numpy as np"
   ]
  },
  {
   "cell_type": "code",
   "execution_count": null,
   "id": "e059ed2b",
   "metadata": {},
   "outputs": [],
   "source": [
    "def printFunction(element : object,printString=\"\"):\n",
    "    print(printString,\"\\n\",element,\"\\n\")"
   ]
  },
  {
   "cell_type": "markdown",
   "id": "8b8bfd22",
   "metadata": {},
   "source": [
    "### Declaring Numpy Arrays"
   ]
  },
  {
   "cell_type": "code",
   "execution_count": null,
   "id": "af172841",
   "metadata": {},
   "outputs": [],
   "source": [
    "\n",
    "np_arr=[[1,2,3],[1,4,5]]\n",
    "\n",
    "#From declared list to Numpy Array\n",
    "np_arr=np.array(np_arr)\n",
    "\n",
    "#From direct list to Numpy\n",
    "np_arr=np.array([5,6,7])\n",
    "\n",
    "shape_tuple = (2,3)  #Where 2 is for rows and 3 is for columns\n",
    "np_arr = np.ones(shape_tuple)\n",
    "printFunction(np_arr,\"Printing All 1 Numpy Array\")\n",
    "\n",
    "np_arr = np.zeros(shape_tuple)\n",
    "printFunction(np_arr,\"Printing All 0 Numpy Array\")\n",
    "\n",
    "assignerValue = 3\n",
    "np_arr = np.full(shape_tuple,assignerValue)\n",
    "printFunction(np_arr,\"Printing All {} Numpy Array\".format(assignerValue))\n",
    "\n",
    "#Loading Txt File directly into numpy, Incase txt file has string values you can use genfromtxt or even specify dtype in loadtxt\n",
    "np_arr = np.loadtxt(\"male_female_X_train.txt\") #Make sure to download the file, and specify fullpath if its not in same folder\n",
    "\n",
    "##################\n",
    "#Np linspace, arange are similar but with different expectations in mind\n",
    "# 1- arange doesnt include stop point, 2- linespace finds stepsize itself, in arange you need to give stepsize \n",
    "\n",
    "valuesNeeded = 4 #With retStep, you can get the stepPoint between values, but it is optional, as default is False\n",
    "startPoint = 0\n",
    "endPoint = 20\n",
    "\n",
    "np_arr, stepPoint = np.linspace(start=startPoint,stop=endPoint,num=valuesNeeded,retstep=True)\n",
    "printFunction(np_arr, \"Created NumpyArray of {} values with even distance between them of {}\".format(valuesNeeded,stepPoint))\n",
    "\n",
    "np_arr = np.arange(start=startPoint,stop=endPoint,step=stepPoint)\n",
    "printFunction(np_arr, \"Created NumpyArray with start {}, end {} and step {}\".format(startPoint,endPoint,stepPoint))\n",
    "\n",
    "###############"
   ]
  },
  {
   "cell_type": "markdown",
   "id": "6ae0ed68",
   "metadata": {},
   "source": [
    "### Basics in Numpy"
   ]
  },
  {
   "cell_type": "code",
   "execution_count": null,
   "id": "f625fdba",
   "metadata": {},
   "outputs": [],
   "source": [
    "np1 = np.array([[1,2,3],[3,2,4]])\n",
    "np2 = np.array([[5,6,7]])\n",
    "printFunction(np1.size,\"Total elements in a numpy array\")\n",
    "printFunction(np1.shape,\"Shape of numpy array\")\n",
    "printFunction(np1.flatten(),\"Return, Flatten multidimesnional array into a 1-D\")\n",
    "printFunction(np1.reshape(3,2),\"Return, numpy array with new shape, but it should be according to elements size\")\n",
    "#While playing with multi-dimesnional array always remember that axis=0 operates along columns, axis=1 operates along rows\n",
    "printFunction(np.concatenate([np1,np2],axis=0),\"Joining 2 numpy arrays\") \n",
    "printFunction(np1.T,\" This to get Transpose of Numpy Array\")"
   ]
  },
  {
   "cell_type": "markdown",
   "id": "cdd37e47",
   "metadata": {},
   "source": [
    "### Numpy Arithemetic"
   ]
  },
  {
   "cell_type": "code",
   "execution_count": null,
   "id": "88917451",
   "metadata": {},
   "outputs": [],
   "source": [
    "np1=np.array([[1,2,3],[1,4,5.5]])\n",
    "np2=np.array([[-1,2,3],[1,4,-5]])\n",
    "np3=np.array([[1,2],[1,4],[1,6]])\n",
    "np4 = np.array([5,6,7])\n",
    "np_arr = np.array([1,-1,4,8,7])\n",
    "\n",
    "\n",
    "printFunction(np1+3,\" Broadcasting concept so the integer is added in the whole numpy array\")\n",
    "printFunction(np1*3,\" Broadcasting concept so the integer is multiplied in the whole numpy array\")\n",
    "printFunction(np1+np4, \"Numpy does Broadcasting where the array is added in all rows for Addition\")\n",
    "printFunction(np1+np2, \"Numpy does element wise Addition, even if its Multi-dimesnional array\")\n",
    "printFunction(np1-np2, \"Numpy does element wise Subtraction, even if its Multi-dimesnional array\")\n",
    "printFunction(np1*np2, \"Numpy does element wise Multiplication, even if its Multi-dimesnional array\")\n",
    "printFunction(np.multiply(np1,np2), \"Numpy does element wise Multiplication with np.multiply as well, hence same result\")\n",
    "printFunction(np.dot(np1,np3),\"Numpy does Matrix Multiplication with np.dot\")\n",
    "printFunction(np1/np2, \"Numpy does element wise Division, even if its Multi-dimesnional array\")\n",
    "\n",
    "#Numpy has some functions which returns indexes which can be used in diverse scenarios\n",
    "printFunction(np.argsort(np_arr),\"argsort when used on array{}, returns index of array sorted\".format(np_arr))\n",
    "printFunction(np.argmax(np_arr),\"argmax return max index element of array{}\".format(np_arr))\n",
    "printFunction(np.argmin(np_arr),\"argmin return min index element of array{}\".format(np_arr))\n",
    "\n",
    "#These function can be used in multidimensional array as well.\n",
    "#While playing with multi-dimesnional array always remember that axis=0 operates along columns, axis=1 operates along rows\n",
    "printFunction(np.argsort(np1,axis=1),\"argsort when used on array \\n{} \\n, with axis=0 so for each row\".format(np1))\n",
    "printFunction(np.argmax(np1,axis=0),\"argmax return max index element with axis=1 of each column of array\\n{}\\n\".format(np1))\n",
    "printFunction(np.argmin(np1,axis=0),\"argmin return min index element with axis=1 of each column of array\\n{}\\n\".format(np1))\n",
    "\n",
    "printFunction(np.sum(np1,axis=0),\"sum of np array with axis=0 of each column of array\\n{}\\n\".format(np1))\n",
    "printFunction(np.mean(np1,axis=1),\"mean of np array with axis=1 of each row of array\\n{}\\n\".format(np1))\n",
    "printFunction(np.std(np1,axis=1),\"standard deviation of np array with axis=1 of each row of array\\n{}\\n\".format(np1))\n",
    "printFunction(np.min(np1,axis=1),\"min of np array with axis=1 of each row of array\\n{}\\n\".format(np1))\n",
    "printFunction(np.max(np1,axis=1),\"max of np array with axis=1 of each row of array\\n{}\\n\".format(np1))\n",
    "\n",
    "printFunction(np.sqrt(np1),\"square root of each element in np array \\n{}\\n\".format(np1))\n",
    "printFunction(np.exp(np1),\"e raised to the power of each element in np array \\n{}\\n\".format(np1))\n",
    "printFunction(np.pi,\" Get the value of pie for your diverse calculations\")"
   ]
  },
  {
   "cell_type": "markdown",
   "id": "c08ff13c",
   "metadata": {},
   "source": [
    "### Numpy Indexing, Slicing and Filtering"
   ]
  },
  {
   "cell_type": "code",
   "execution_count": null,
   "id": "33d018b7",
   "metadata": {},
   "outputs": [],
   "source": [
    "np1=np.arange(0,10,1.5)\n",
    "arr2d=np.array([np.arange(0,20,2),np.arange(0,10)])\n",
    "\n",
    "#Slicing For 1-D Arrays\n",
    "printFunction(np1,\"Whole Numpy Array\")\n",
    "printFunction(np1[4],\"Single Value from Numpy Array\")\n",
    "printFunction(np1[1:4],\"Value from Index to 4, exlcuding 4 in Numpy Array\")\n",
    "printFunction(np1[:4],\"Values uptill index 4 in Numpy Array\")\n",
    "printFunction(np1[4:],\"Values from index 4 till end of Numpy Array\")\n",
    "printFunction(np1[4:-1],\"Values from index 4 till the second last element of Numpy Array\")\n",
    "printFunction(np1[0 :-1:2],\"Values from index 0 till the second last element of Numpy Array with stepsize 2\")\n",
    "printFunction(np1[1 :3]*2,\"Values from index 1 and 2 are multiplied by 2\")\n",
    "np1[1 :3]=90 #You can allot value to particular indexes in Numpy array\n",
    "printFunction(np1,\"Whole Numpy Array\")\n",
    "\n",
    "#Slicing For Multidimesnional Arrays\n",
    "printFunction(arr2d,\"Whole Multi-dimensional Numpy Array\")\n",
    "printFunction(arr2d[0,1],\"Get First row, Second column value\")\n",
    "printFunction(arr2d[:,1:3],\"Get All rows, Second and Third column values\")\n",
    "printFunction(arr2d[:1],\"Get All Rows until index 1, All columns will be fetched by default\")\n",
    "\n",
    "#Filtering/Conditional Statements\n",
    "value = 5\n",
    "printFunction(np1,\"Whole Numpy Array\")\n",
    "printFunction(np1>value,\"Compare given value {} with whole array and Return Boolean array\".format(value))\n",
    "printFunction(np1[np1==value],\"Return all elements of numpy array equal to the value {}\".format(value))\n",
    "printFunction(np1[np1>value],\" Return all elements of numpy array bigger than value {} \".format(value))\n",
    "printFunction(np1[~(np1>value)],\" Return all elements of numpy array lesser than value, through Not condition {} \".format(value))\n",
    "printFunction(np1[~(np1>value) & (np1<3)],\" Return all elements of arr, with multiconditions\".format(value))\n",
    "printFunction(np1[~(np1>value) & (np1<3)],\" Return all elements of arr, with multiconditions\".format(value))\n",
    "printFunction(np1,\"Whole Numpy Array\")\n",
    "printFunction(np.count_nonzero(np1>3),\" This counts non zero values or you can say value which are True, or more than 0\")\n",
    "printFunction(np.where((np1>3) & (np1<7)),\"Get Indexes which you given condition\")"
   ]
  },
  {
   "cell_type": "markdown",
   "id": "e1eb0210",
   "metadata": {},
   "source": [
    "### Deep VS Shallow Copy in Numpy"
   ]
  },
  {
   "cell_type": "code",
   "execution_count": null,
   "id": "c959073e",
   "metadata": {},
   "outputs": [],
   "source": [
    "#Numpy does shallow copy by default using assignment operator\n",
    "np1 = np.array([1,2,3])\n",
    "np2 = np.array([4,5,6])\n",
    "\n",
    "np3 = np1\n",
    "np3[0]=7\n",
    "\n",
    "printFunction(np3,\" This is np3 after change in np3\")\n",
    "printFunction(np1,\" This is np1 after change in np3, so change in np3 is seen in np1 as well, as shallow copy done\")\n",
    "\n",
    "np4 = np2.copy()\n",
    "np4[0]=-1\n",
    "printFunction(np4,\" This is np4 after change in np4\")\n",
    "printFunction(np2,\" This is np2 after change in np4, so change in np4 is not seen in np2 , as deep copy done\")\n"
   ]
  },
  {
   "cell_type": "markdown",
   "id": "1e0260a3",
   "metadata": {},
   "source": [
    "### Numpy Random Module"
   ]
  },
  {
   "cell_type": "code",
   "execution_count": null,
   "id": "7a44e6a7",
   "metadata": {},
   "outputs": [],
   "source": [
    "#This module is used to work with random numbers. \n",
    "#If you want to recreate/get same random numbers use seed\n",
    "\n",
    "mySeed= 456\n",
    "np.random.seed(mySeed)\n",
    "\n",
    "\n",
    "np_arr = np.random.randint(low=0, high=10, size=shape_tuple)\n",
    "printFunction(np_arr, \"Random integers generated from randint function of shape {}\".format(shape_tuple))\n",
    "\n",
    "#Exact similar to np.random.random_sample, random number will be generated from [0,1), means 1 is not included\n",
    "np_arr = np.random.random()\n",
    "printFunction(np_arr,\"Random integer generated from random function\")\n",
    "\n",
    "np_arr = np.random.random(shape_tuple)\n",
    "printFunction(np_arr,\"Random integers generated from random function of shape {}\".format(shape_tuple))"
   ]
  },
  {
   "cell_type": "markdown",
   "id": "aa61b609",
   "metadata": {},
   "source": [
    "### Numpy Histogram"
   ]
  },
  {
   "cell_type": "code",
   "execution_count": null,
   "id": "185e0c4e",
   "metadata": {},
   "outputs": [],
   "source": [
    "#The numpy.histogram function is used to compute the histogram of a set of data.\n",
    "#A histogram is a representation of the distribution of numerical data. \n",
    "#It divides the data into bins and counts the number of occurrences in each bin\n",
    "np_arr = np.loadtxt(\"male_female_X_train.txt\")\n",
    "hist , bins = np.histogram(np_arr[:,0],bins=10, range=(80,220))\n",
    "printFunction([hist,bins],\"hist (counts in each bin) and bins (bin edges).\")"
   ]
  },
  {
   "cell_type": "code",
   "execution_count": null,
   "id": "01b1e1a4",
   "metadata": {},
   "outputs": [],
   "source": []
  },
  {
   "cell_type": "code",
   "execution_count": null,
   "id": "f733fb9b",
   "metadata": {},
   "outputs": [],
   "source": []
  },
  {
   "cell_type": "code",
   "execution_count": null,
   "id": "92271f2e",
   "metadata": {},
   "outputs": [],
   "source": []
  },
  {
   "cell_type": "code",
   "execution_count": null,
   "id": "62a2f52b",
   "metadata": {},
   "outputs": [],
   "source": []
  },
  {
   "cell_type": "code",
   "execution_count": null,
   "id": "b5798ce5",
   "metadata": {},
   "outputs": [],
   "source": []
  },
  {
   "cell_type": "code",
   "execution_count": null,
   "id": "7ada3050",
   "metadata": {},
   "outputs": [],
   "source": []
  },
  {
   "cell_type": "code",
   "execution_count": null,
   "id": "46b5f102",
   "metadata": {},
   "outputs": [],
   "source": []
  },
  {
   "cell_type": "code",
   "execution_count": null,
   "id": "c3e551f7",
   "metadata": {},
   "outputs": [],
   "source": []
  },
  {
   "cell_type": "code",
   "execution_count": null,
   "id": "55e95740",
   "metadata": {},
   "outputs": [],
   "source": []
  },
  {
   "cell_type": "code",
   "execution_count": null,
   "id": "6b7405fd",
   "metadata": {},
   "outputs": [],
   "source": []
  },
  {
   "cell_type": "code",
   "execution_count": null,
   "id": "c39f55ab",
   "metadata": {},
   "outputs": [],
   "source": []
  },
  {
   "cell_type": "code",
   "execution_count": null,
   "id": "b0d96b39",
   "metadata": {},
   "outputs": [],
   "source": []
  },
  {
   "cell_type": "code",
   "execution_count": null,
   "id": "994dbda4",
   "metadata": {},
   "outputs": [],
   "source": []
  },
  {
   "cell_type": "code",
   "execution_count": null,
   "id": "5b99dbc4",
   "metadata": {},
   "outputs": [],
   "source": []
  },
  {
   "cell_type": "code",
   "execution_count": null,
   "id": "fcb05abd",
   "metadata": {},
   "outputs": [],
   "source": []
  },
  {
   "cell_type": "code",
   "execution_count": null,
   "id": "84f0676b",
   "metadata": {},
   "outputs": [],
   "source": []
  },
  {
   "cell_type": "code",
   "execution_count": null,
   "id": "c42abdb6",
   "metadata": {},
   "outputs": [],
   "source": []
  },
  {
   "cell_type": "code",
   "execution_count": null,
   "id": "f36ba738",
   "metadata": {},
   "outputs": [],
   "source": []
  }
 ],
 "metadata": {
  "kernelspec": {
   "display_name": "Python 3 (ipykernel)",
   "language": "python",
   "name": "python3"
  },
  "language_info": {
   "codemirror_mode": {
    "name": "ipython",
    "version": 3
   },
   "file_extension": ".py",
   "mimetype": "text/x-python",
   "name": "python",
   "nbconvert_exporter": "python",
   "pygments_lexer": "ipython3",
   "version": "3.10.12"
  }
 },
 "nbformat": 4,
 "nbformat_minor": 5
}
